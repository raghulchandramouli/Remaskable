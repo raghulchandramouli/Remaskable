{
 "cells": [
  {
   "cell_type": "markdown",
   "id": "09075ca5",
   "metadata": {},
   "source": [
    "### Object-Binary-Masks Orientations"
   ]
  },
  {
   "cell_type": "code",
   "execution_count": 1,
   "id": "5d7a8325",
   "metadata": {},
   "outputs": [
    {
     "name": "stdout",
     "output_type": "stream",
     "text": [
      "Note: you may need to restart the kernel to use updated packages.\n"
     ]
    }
   ],
   "source": [
    "# Install dependencies\n",
    "%pip install -q pycocotools opencv-python matplotlib tqdm"
   ]
  },
  {
   "cell_type": "code",
   "execution_count": 1,
   "id": "3f3f4411",
   "metadata": {},
   "outputs": [],
   "source": [
    "# Import necessary libraries and Path Setups\n",
    "\n",
    "import os\n",
    "import cv2\n",
    "import numpy as np\n",
    "import matplotlib.pyplot as plt\n",
    "from tqdm import tqdm\n",
    "from pycocotools.coco import COCO\n",
    "import random"
   ]
  },
  {
   "cell_type": "code",
   "execution_count": 13,
   "id": "3442ac36",
   "metadata": {},
   "outputs": [],
   "source": [
    "# Path file\n",
    "ANNOTATIONS_FILE = r\"/mnt/g/Authenta/data/authenta-remaskable-inpainting-detection/annotations/instances_val2017.json\"\n",
    "IMAGE_DIR = r\"/mnt/g/Authenta/data/authenta-remaskable-inpainting-detection/images\"\n",
    "OUTPUT_MASKS = r\"/mnt/g/Authenta/data/authenta-remaskable-inpainting-detection/masks\""
   ]
  },
  {
   "cell_type": "code",
   "execution_count": null,
   "id": "31f169f7",
   "metadata": {},
   "outputs": [],
   "source": [
    "# Params:\n",
    "MIN_MASK_AREA = 1000  # Minimum area of the mask to be considered valid\n",
    "MAX_IMAGES = 50  # Maximum number of images to process"
   ]
  },
  {
   "cell_type": "code",
   "execution_count": 8,
   "id": "6cbb3158",
   "metadata": {},
   "outputs": [
    {
     "name": "stdout",
     "output_type": "stream",
     "text": [
      "loading annotations into memory...\n",
      "Done (t=0.60s)\n",
      "creating index...\n",
      "index created!\n",
      "Total images in dataset: 5000\n"
     ]
    }
   ],
   "source": [
    "# Load COCO API\n",
    "coco = COCO(ANNOTATIONS_FILE)\n",
    "image_ids = coco.getImgIds()\n",
    "print(f\"Total images in dataset: {len(image_ids)}\")"
   ]
  },
  {
   "cell_type": "code",
   "execution_count": 15,
   "id": "b01daff8",
   "metadata": {},
   "outputs": [],
   "source": [
    "# helper function to create a mask for an image\n",
    "def show_mask_on_image(image, mask):\n",
    "    overlay = image.copy()\n",
    "    overlay[mask == 1] = (0, 255, 0)\n",
    "    return cv2.addWeighted(image, 0.7, overlay, 0.3, 0)\n"
   ]
  },
  {
   "cell_type": "code",
   "execution_count": null,
   "id": "00721115",
   "metadata": {},
   "outputs": [],
   "source": [
    "#  Loop through images and extract 1 random valid mask per image\n",
    "processed_count = 0\n",
    "\n",
    "for img_id in tqdm(image_ids[:MAX_IMAGES]):\n",
    "    img_info = coco.loadImgs(img_id)[0]\n",
    "    img_path = os.path.join(IMAGE_DIR, img_info[\"file_name\"])\n",
    "    image = cv2.imread(img_path)\n",
    "\n",
    "    if image is None:\n",
    "        continue\n",
    "\n",
    "    # Get valid object masks\n",
    "    ann_ids = coco.getAnnIds(imgIds=img_id, iscrowd=False)\n",
    "    anns = coco.loadAnns(ann_ids)\n",
    "\n",
    "    valid_anns = []\n",
    "    for ann in anns:\n",
    "        if \"segmentation\" not in ann or type(ann[\"segmentation\"]) != list:\n",
    "            continue\n",
    "        mask = coco.annToMask(ann)\n",
    "        if np.sum(mask) >= MIN_MASK_AREA:\n",
    "            valid_anns.append((ann, mask))\n",
    "\n",
    "    if not valid_anns:\n",
    "        continue\n",
    "\n",
    "    #  Randomly pick one object\n",
    "    ann, mask = random.choice(valid_anns)\n",
    "    binary_mask = (mask * 255).astype(np.uint8)\n",
    "\n",
    "    # Save binary mask\n",
    "    mask_filename = f\"mask_{img_id:012d}.png\"\n",
    "    mask_path = os.path.join(OUTPUT_MASKS, mask_filename)\n",
    "    cv2.imwrite(mask_path, binary_mask)\n",
    "\n",
    "    # 🔍 Optional visual check\n",
    "    overlay = show_mask_on_image(image, mask)\n",
    "    plt.imshow(cv2.cvtColor(overlay, cv2.COLOR_BGR2RGB))\n",
    "    plt.title(f\"{mask_filename}\")\n",
    "    plt.axis('off')\n",
    "    plt.show()\n",
    "\n",
    "    processed_count += 1\n",
    "\n",
    "print(f\"\\n Done. Generated {processed_count} mask(s).\")\n"
   ]
  },
  {
   "cell_type": "code",
   "execution_count": null,
   "id": "8aa44990",
   "metadata": {},
   "outputs": [],
   "source": []
  }
 ],
 "metadata": {
  "kernelspec": {
   "display_name": "remaskable",
   "language": "python",
   "name": "python3"
  },
  "language_info": {
   "codemirror_mode": {
    "name": "ipython",
    "version": 3
   },
   "file_extension": ".py",
   "mimetype": "text/x-python",
   "name": "python",
   "nbconvert_exporter": "python",
   "pygments_lexer": "ipython3",
   "version": "3.11.13"
  }
 },
 "nbformat": 4,
 "nbformat_minor": 5
}
